{
 "cells": [
  {
   "cell_type": "markdown",
   "id": "kOll_fno3Yat",
   "metadata": {
    "id": "kOll_fno3Yat"
   },
   "source": [
    "# Image Preprocessing"
   ]
  },
  {
   "cell_type": "markdown",
   "id": "tW59gsm_2EJa",
   "metadata": {
    "id": "tW59gsm_2EJa"
   },
   "source": [
    "Importing Image Data Generator Library"
   ]
  },
  {
   "cell_type": "code",
   "execution_count": 1,
   "id": "Tu50A-mJ2PrL",
   "metadata": {
    "executionInfo": {
     "elapsed": 3272,
     "status": "ok",
     "timestamp": 1642677032049,
     "user": {
      "displayName": "ANSHUMAN RAINA 19BAI10151",
      "photoUrl": "https://lh3.googleusercontent.com/a-/AOh14GgiGg7Er9kXU2F9L64XvYv5Bv5Oe_Hb0IgP84m4=s64",
      "userId": "02069950647084314499"
     },
     "user_tz": -330
    },
    "id": "Tu50A-mJ2PrL"
   },
   "outputs": [],
   "source": [
    "\n",
    "from tensorflow.keras.preprocessing.image import ImageDataGenerator"
   ]
  },
  {
   "cell_type": "markdown",
   "id": "PsfFl-if2TOy",
   "metadata": {
    "id": "PsfFl-if2TOy"
   },
   "source": [
    "Configure Image datagenerator class"
   ]
  },
  {
   "cell_type": "code",
   "execution_count": 2,
   "id": "kxgV5UjG2dtC",
   "metadata": {
    "executionInfo": {
     "elapsed": 399,
     "status": "ok",
     "timestamp": 1642677034091,
     "user": {
      "displayName": "ANSHUMAN RAINA 19BAI10151",
      "photoUrl": "https://lh3.googleusercontent.com/a-/AOh14GgiGg7Er9kXU2F9L64XvYv5Bv5Oe_Hb0IgP84m4=s64",
      "userId": "02069950647084314499"
     },
     "user_tz": -330
    },
    "id": "kxgV5UjG2dtC"
   },
   "outputs": [],
   "source": [
    "#setting parameter for image data agumentationto the training data\n",
    "train_datagen=ImageDataGenerator(rescale=1./225,shear_range=0.2,zoom_range=0.2,horizontal_flip=True)\n",
    "#image data agumenatation to test dataset\n",
    "test_datagen=ImageDataGenerator(rescale=1./225)"
   ]
  },
  {
   "cell_type": "markdown",
   "id": "TB3nRvlf20DG",
   "metadata": {
    "id": "TB3nRvlf20DG"
   },
   "source": [
    "Applying ImageDataGenerator Functionality to train and test Dataset"
   ]
  },
  {
   "cell_type": "code",
   "execution_count": 3,
   "id": "e156bd18",
   "metadata": {
    "colab": {
     "base_uri": "https://localhost:8080/"
    },
    "executionInfo": {
     "elapsed": 45836,
     "status": "ok",
     "timestamp": 1642677082017,
     "user": {
      "displayName": "ANSHUMAN RAINA 19BAI10151",
      "photoUrl": "https://lh3.googleusercontent.com/a-/AOh14GgiGg7Er9kXU2F9L64XvYv5Bv5Oe_Hb0IgP84m4=s64",
      "userId": "02069950647084314499"
     },
     "user_tz": -330
    },
    "id": "e156bd18",
    "outputId": "a09a10cf-0455-408f-83a6-b96c7239f9fb"
   },
   "outputs": [
    {
     "name": "stdout",
     "output_type": "stream",
     "text": [
      "Found 15341 images belonging to 6 classes.\n",
      "Found 6825 images belonging to 6 classes.\n"
     ]
    }
   ],
   "source": [
    "#performing data agumentation to train the dataset\n",
    "x_train=train_datagen.flow_from_directory(directory=r'C:\\ECG-Image-Based-Heartbeat-Classification-for-Arrhythmia-Detection-Using-IBM-Watson-Studio-main\\data\\train',target_size=(64,64),batch_size=32,class_mode='categorical')\n",
    "#performing agumentation to test the dataset\n",
    "x_test=test_datagen.flow_from_directory(directory=r'C:\\ECG-Image-Based-Heartbeat-Classification-for-Arrhythmia-Detection-Using-IBM-Watson-Studio-main\\data\\test',target_size=(64,64),batch_size=32,class_mode='categorical')\n"
   ]
  },
  {
   "cell_type": "markdown",
   "id": "LnpBXjMy3D46",
   "metadata": {
    "id": "LnpBXjMy3D46"
   },
   "source": [
    "# Model Building"
   ]
  },
  {
   "cell_type": "markdown",
   "id": "ysK7BFgN3RD0",
   "metadata": {
    "id": "ysK7BFgN3RD0"
   },
   "source": [
    "Importing Libraries"
   ]
  },
  {
   "cell_type": "code",
   "execution_count": 4,
   "id": "02ddb462",
   "metadata": {},
   "outputs": [
    {
     "name": "stdout",
     "output_type": "stream",
     "text": [
      "Requirement already satisfied: keras in c:\\users\\namit\\anaconda3\\lib\\site-packages (2.9.0)\n"
     ]
    }
   ],
   "source": [
    "!pip install keras"
   ]
  },
  {
   "cell_type": "code",
   "execution_count": 5,
   "id": "ols5iJTh1q-P",
   "metadata": {
    "executionInfo": {
     "elapsed": 417,
     "status": "ok",
     "timestamp": 1642677084896,
     "user": {
      "displayName": "ANSHUMAN RAINA 19BAI10151",
      "photoUrl": "https://lh3.googleusercontent.com/a-/AOh14GgiGg7Er9kXU2F9L64XvYv5Bv5Oe_Hb0IgP84m4=s64",
      "userId": "02069950647084314499"
     },
     "user_tz": -330
    },
    "id": "ols5iJTh1q-P"
   },
   "outputs": [],
   "source": [
    "\n",
    "import numpy as np\n",
    "import tensorflow\n",
    "from tensorflow.keras.models import Sequential\n",
    "from tensorflow.keras import layers\n",
    "\n",
    "from tensorflow.keras.layers import Dense,Flatten\n",
    "\n",
    "from tensorflow.keras.layers import Conv2D,MaxPooling2D\n"
   ]
  },
  {
   "cell_type": "code",
   "execution_count": 6,
   "id": "D47DOHPM8-uv",
   "metadata": {
    "executionInfo": {
     "elapsed": 414,
     "status": "ok",
     "timestamp": 1642677088118,
     "user": {
      "displayName": "ANSHUMAN RAINA 19BAI10151",
      "photoUrl": "https://lh3.googleusercontent.com/a-/AOh14GgiGg7Er9kXU2F9L64XvYv5Bv5Oe_Hb0IgP84m4=s64",
      "userId": "02069950647084314499"
     },
     "user_tz": -330
    },
    "id": "D47DOHPM8-uv"
   },
   "outputs": [],
   "source": [
    "model= tensorflow.keras.Sequential()"
   ]
  },
  {
   "cell_type": "markdown",
   "id": "uwK84q-X3vHc",
   "metadata": {
    "id": "uwK84q-X3vHc"
   },
   "source": [
    "Adding CNN Layers"
   ]
  },
  {
   "cell_type": "code",
   "execution_count": 7,
   "id": "9RljNEo531dG",
   "metadata": {
    "executionInfo": {
     "elapsed": 486,
     "status": "ok",
     "timestamp": 1642677090849,
     "user": {
      "displayName": "ANSHUMAN RAINA 19BAI10151",
      "photoUrl": "https://lh3.googleusercontent.com/a-/AOh14GgiGg7Er9kXU2F9L64XvYv5Bv5Oe_Hb0IgP84m4=s64",
      "userId": "02069950647084314499"
     },
     "user_tz": -330
    },
    "id": "9RljNEo531dG"
   },
   "outputs": [],
   "source": [
    "#adding model layer\n",
    "model.add(Conv2D(32,(3,3),input_shape=(64,64,3),activation='relu'))\n",
    "model.add(MaxPooling2D(pool_size=(2,2)))\n",
    "model.add(Conv2D(32,(3,3),activation='relu'))\n",
    "model.add(MaxPooling2D(pool_size=(2,2)))\n",
    "model.add(Flatten())"
   ]
  },
  {
   "cell_type": "markdown",
   "id": "8DbbNiA5397o",
   "metadata": {
    "id": "8DbbNiA5397o"
   },
   "source": [
    "Adding Dense Layers"
   ]
  },
  {
   "cell_type": "code",
   "execution_count": 8,
   "id": "1kYr2efF4AwR",
   "metadata": {
    "colab": {
     "base_uri": "https://localhost:8080/"
    },
    "executionInfo": {
     "elapsed": 654,
     "status": "ok",
     "timestamp": 1642677094849,
     "user": {
      "displayName": "ANSHUMAN RAINA 19BAI10151",
      "photoUrl": "https://lh3.googleusercontent.com/a-/AOh14GgiGg7Er9kXU2F9L64XvYv5Bv5Oe_Hb0IgP84m4=s64",
      "userId": "02069950647084314499"
     },
     "user_tz": -330
    },
    "id": "1kYr2efF4AwR",
    "outputId": "ce7bef72-2a14-4a16-fe2e-ca2719d9c7c2"
   },
   "outputs": [
    {
     "name": "stdout",
     "output_type": "stream",
     "text": [
      "Model: \"sequential\"\n",
      "_________________________________________________________________\n",
      "Layer (type)                 Output Shape              Param #   \n",
      "=================================================================\n",
      "conv2d (Conv2D)              (None, 62, 62, 32)        896       \n",
      "_________________________________________________________________\n",
      "max_pooling2d (MaxPooling2D) (None, 31, 31, 32)        0         \n",
      "_________________________________________________________________\n",
      "conv2d_1 (Conv2D)            (None, 29, 29, 32)        9248      \n",
      "_________________________________________________________________\n",
      "max_pooling2d_1 (MaxPooling2 (None, 14, 14, 32)        0         \n",
      "_________________________________________________________________\n",
      "flatten (Flatten)            (None, 6272)              0         \n",
      "_________________________________________________________________\n",
      "dense (Dense)                (None, 32)                200736    \n",
      "_________________________________________________________________\n",
      "dense_1 (Dense)              (None, 6)                 198       \n",
      "=================================================================\n",
      "Total params: 211,078\n",
      "Trainable params: 211,078\n",
      "Non-trainable params: 0\n",
      "_________________________________________________________________\n"
     ]
    }
   ],
   "source": [
    "model.add(Dense(32))\n",
    "model.add(Dense(6,activation='softmax'))\n",
    "\n",
    "model.summary()"
   ]
  },
  {
   "cell_type": "markdown",
   "id": "m3mTMNe1_2LZ",
   "metadata": {
    "id": "m3mTMNe1_2LZ"
   },
   "source": [
    "Configuring the learning process"
   ]
  },
  {
   "cell_type": "code",
   "execution_count": 9,
   "id": "cU49pXBJ_-mw",
   "metadata": {
    "executionInfo": {
     "elapsed": 412,
     "status": "ok",
     "timestamp": 1642677098513,
     "user": {
      "displayName": "ANSHUMAN RAINA 19BAI10151",
      "photoUrl": "https://lh3.googleusercontent.com/a-/AOh14GgiGg7Er9kXU2F9L64XvYv5Bv5Oe_Hb0IgP84m4=s64",
      "userId": "02069950647084314499"
     },
     "user_tz": -330
    },
    "id": "cU49pXBJ_-mw"
   },
   "outputs": [],
   "source": [
    "model.compile(optimizer='adam',loss='categorical_crossentropy',metrics=['accuracy'])"
   ]
  },
  {
   "cell_type": "markdown",
   "id": "ODFz0IiUACTj",
   "metadata": {
    "id": "ODFz0IiUACTj"
   },
   "source": [
    "Train the Model"
   ]
  },
  {
   "cell_type": "code",
   "execution_count": 10,
   "id": "b-SfMl_ZAHPM",
   "metadata": {
    "colab": {
     "base_uri": "https://localhost:8080/"
    },
    "executionInfo": {
     "elapsed": 6220650,
     "status": "ok",
     "timestamp": 1642683322564,
     "user": {
      "displayName": "ANSHUMAN RAINA 19BAI10151",
      "photoUrl": "https://lh3.googleusercontent.com/a-/AOh14GgiGg7Er9kXU2F9L64XvYv5Bv5Oe_Hb0IgP84m4=s64",
      "userId": "02069950647084314499"
     },
     "user_tz": -330
    },
    "id": "b-SfMl_ZAHPM",
    "outputId": "d2cc46b9-a584-44bd-df54-9702a246a0c4"
   },
   "outputs": [
    {
     "name": "stdout",
     "output_type": "stream",
     "text": [
      "WARNING:tensorflow:From <ipython-input-10-da6b799e739e>:1: Model.fit_generator (from tensorflow.python.keras.engine.training) is deprecated and will be removed in a future version.\n",
      "Instructions for updating:\n",
      "Please use Model.fit, which supports generators.\n",
      "Epoch 1/10\n",
      "480/480 [==============================] - 56s 118ms/step - loss: 1.1379 - accuracy: 0.5947 - val_loss: 0.8107 - val_accuracy: 0.7182\n",
      "Epoch 2/10\n",
      "480/480 [==============================] - 41s 86ms/step - loss: 0.3897 - accuracy: 0.8814 - val_loss: 0.4789 - val_accuracy: 0.8608\n",
      "Epoch 3/10\n",
      "480/480 [==============================] - 43s 89ms/step - loss: 0.2874 - accuracy: 0.9141 - val_loss: 0.4576 - val_accuracy: 0.8530\n",
      "Epoch 4/10\n",
      "480/480 [==============================] - 42s 88ms/step - loss: 0.2467 - accuracy: 0.9284 - val_loss: 0.3328 - val_accuracy: 0.9033\n",
      "Epoch 5/10\n",
      "480/480 [==============================] - 43s 89ms/step - loss: 0.2227 - accuracy: 0.9348 - val_loss: 0.3091 - val_accuracy: 0.8961\n",
      "Epoch 6/10\n",
      "480/480 [==============================] - 43s 89ms/step - loss: 0.2034 - accuracy: 0.9424 - val_loss: 0.3127 - val_accuracy: 0.9084\n",
      "Epoch 7/10\n",
      "480/480 [==============================] - 43s 89ms/step - loss: 0.1750 - accuracy: 0.9482 - val_loss: 0.3603 - val_accuracy: 0.8919\n",
      "Epoch 8/10\n",
      "480/480 [==============================] - 43s 89ms/step - loss: 0.1699 - accuracy: 0.9495 - val_loss: 0.3171 - val_accuracy: 0.8996\n",
      "Epoch 9/10\n",
      "480/480 [==============================] - 43s 90ms/step - loss: 0.1544 - accuracy: 0.9526 - val_loss: 0.3593 - val_accuracy: 0.8875\n",
      "Epoch 10/10\n",
      "480/480 [==============================] - 43s 90ms/step - loss: 0.1516 - accuracy: 0.9546 - val_loss: 0.3264 - val_accuracy: 0.9237\n"
     ]
    },
    {
     "data": {
      "text/plain": [
       "<tensorflow.python.keras.callbacks.History at 0x1a8ad5b40d0>"
      ]
     },
     "execution_count": 10,
     "metadata": {},
     "output_type": "execute_result"
    }
   ],
   "source": [
    "model.fit_generator(generator=x_train,steps_per_epoch = len(x_train), epochs=10, validation_data=x_test,validation_steps = len(x_test))"
   ]
  },
  {
   "cell_type": "markdown",
   "id": "ip8Eu06pCQac",
   "metadata": {
    "id": "ip8Eu06pCQac"
   },
   "source": [
    "Saving the model"
   ]
  },
  {
   "cell_type": "code",
   "execution_count": 11,
   "id": "cMXHWjLQCYsr",
   "metadata": {
    "executionInfo": {
     "elapsed": 430,
     "status": "ok",
     "timestamp": 1642683357696,
     "user": {
      "displayName": "ANSHUMAN RAINA 19BAI10151",
      "photoUrl": "https://lh3.googleusercontent.com/a-/AOh14GgiGg7Er9kXU2F9L64XvYv5Bv5Oe_Hb0IgP84m4=s64",
      "userId": "02069950647084314499"
     },
     "user_tz": -330
    },
    "id": "cMXHWjLQCYsr"
   },
   "outputs": [],
   "source": [
    "model.save('ECG.h5')"
   ]
  },
  {
   "cell_type": "markdown",
   "id": "ZmCTw7e5CfhN",
   "metadata": {
    "id": "ZmCTw7e5CfhN"
   },
   "source": [
    "Test the Model"
   ]
  },
  {
   "cell_type": "code",
   "execution_count": 26,
   "id": "7b69ff7b",
   "metadata": {
    "colab": {
     "base_uri": "https://localhost:8080/"
    },
    "executionInfo": {
     "elapsed": 444,
     "status": "ok",
     "timestamp": 1642683362784,
     "user": {
      "displayName": "ANSHUMAN RAINA 19BAI10151",
      "photoUrl": "https://lh3.googleusercontent.com/a-/AOh14GgiGg7Er9kXU2F9L64XvYv5Bv5Oe_Hb0IgP84m4=s64",
      "userId": "02069950647084314499"
     },
     "user_tz": -330
    },
    "id": "7b69ff7b",
    "outputId": "a50ba1bc-4d03-46c9-d580-7300c57d6901"
   },
   "outputs": [
    {
     "data": {
      "text/plain": [
       "2"
      ]
     },
     "execution_count": 26,
     "metadata": {},
     "output_type": "execute_result"
    }
   ],
   "source": [
    "from tensorflow.keras.models import load_model\n",
    "from tensorflow.keras.preprocessing import image\n",
    "model=load_model(\"C:\\ECG-Image-Based-Heartbeat-Classification-for-Arrhythmia-Detection-Using-IBM-Watson-Studio-main\\Training\\ECG.h5\")\n",
    "img=image.load_img(\"C:\\\\ECG-Image-Based-Heartbeat-Classification-for-Arrhythmia-Detection-Using-IBM-Watson-Studio-main\\\\Flask\\\\uploads\\\\PAC.png\",target_size=(64,64))\n",
    "x=image.img_to_array(img)\n",
    "x=np.expand_dims(x,axis=0)\n",
    "pred = model.predict(x)\n",
    "y_pred=np.argmax(pred)\n",
    "y_pred\n"
   ]
  },
  {
   "cell_type": "code",
   "execution_count": 27,
   "id": "4OEO0jcfqJiz",
   "metadata": {
    "colab": {
     "base_uri": "https://localhost:8080/",
     "height": 35
    },
    "executionInfo": {
     "elapsed": 636,
     "status": "ok",
     "timestamp": 1642683405004,
     "user": {
      "displayName": "ANSHUMAN RAINA 19BAI10151",
      "photoUrl": "https://lh3.googleusercontent.com/a-/AOh14GgiGg7Er9kXU2F9L64XvYv5Bv5Oe_Hb0IgP84m4=s64",
      "userId": "02069950647084314499"
     },
     "user_tz": -330
    },
    "id": "4OEO0jcfqJiz",
    "outputId": "0cb71e55-ce7c-45c7-e96a-bc7eb0e80a88"
   },
   "outputs": [
    {
     "data": {
      "text/plain": [
       "'Premature Atrial Contraction'"
      ]
     },
     "execution_count": 27,
     "metadata": {},
     "output_type": "execute_result"
    }
   ],
   "source": [
    "index=['left Bundle Branch block','Normal','Premature Atrial Contraction','Premature Ventricular Contraction','Right Bundle Branch Block','Ventricular Fibrillation']\n",
    "result = str(index[y_pred])\n",
    "result"
   ]
  },
  {
   "cell_type": "code",
   "execution_count": null,
   "id": "c9acb949",
   "metadata": {},
   "outputs": [],
   "source": []
  }
 ],
 "metadata": {
  "colab": {
   "collapsed_sections": [],
   "name": "ECG arrhythmia classification.ipynb",
   "provenance": []
  },
  "kernelspec": {
   "display_name": "Python 3",
   "language": "python",
   "name": "python3"
  },
  "language_info": {
   "codemirror_mode": {
    "name": "ipython",
    "version": 3
   },
   "file_extension": ".py",
   "mimetype": "text/x-python",
   "name": "python",
   "nbconvert_exporter": "python",
   "pygments_lexer": "ipython3",
   "version": "3.8.8"
  }
 },
 "nbformat": 4,
 "nbformat_minor": 5
}
